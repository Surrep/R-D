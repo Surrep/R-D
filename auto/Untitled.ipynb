{
 "cells": [
  {
   "cell_type": "code",
   "execution_count": 236,
   "metadata": {},
   "outputs": [
    {
     "data": {
      "image/png": "[encoded data removed]",
      "text/plain": [
       "<matplotlib.figure.Figure at 0x111943f28>"
      ]
     },
     "metadata": {},
     "output_type": "display_data"
    },
    {
     "data": {
      "text/html": [
       "\n",
       "                <audio controls=\"controls\" >\n",
       "                    <source src=\"data:audio/wav;base64,UklGRuwAAABXQVZFZm10IBAAAAABAAEAQJwAAIA4AQACABAAZGF0YcgAAAD+J8wrqS/sMsI1djjaOss8VD65P8JA4UCzQOdA7EBnQIw/AT6TO8o4EDZcM78wDS5qKoMlGCCYGjoV2BBJDe0ISANe/Yb3Z/F/66DmAOJX3P7Vmc/pyEXCdbwzt7OxAqyppvSh9Z25mp2X/JNAkOOM7onqhwuH6YbwhvSFfoMTgQGAmIC+gqGFb4jdiryMlo4RkYCUhpl7nwOlLarNrreyS7euvCnCfshYz3rVMNsm4WHnbu1w8536ggKjCdMQvxe1HM4gRyWMKQ==\" type=\"audio/wav\" />\n",
       "                    Your browser does not support the audio element.\n",
       "                </audio>\n",
       "              "
      ],
      "text/plain": [
       "<IPython.lib.display.Audio object>"
      ]
     },
     "execution_count": 236,
     "metadata": {},
     "output_type": "execute_result"
    }
   ],
   "source": [
    "from scipy.io.wavfile import read, write\n",
    "from IPython.display import Audio\n",
    "from auto_chunks import AutoRNN\n",
    "\n",
    "import matplotlib.pyplot as plt\n",
    "import numpy as np\n",
    "%matplotlib inline\n",
    "\n",
    "sounds = '/Users/tru/Desktop/english/'\n",
    "sample_rate, data = read(sounds + 'calc.wav')\n",
    "\n",
    "X = (data.reshape(1, -1) / np.max(data))[:, 42000:42100]\n",
    "y = X\n",
    "\n",
    "arnn = AutoRNN(learning_rate=0.1, seq_len=5,\n",
    "               look_ahead=3, stride=1, lucidity=0)\n",
    "\n",
    "arnn.fit(X, y, epsilon=1e-10, cap=1050, verbose=False)\n",
    "# out2 = arnn.generate(seed=X[:, :20], num_samples=75)\n",
    "\n",
    "plt.plot(X.reshape(-1))\n",
    "plt.show()\n",
    "\n",
    "# plt.plot(out2.reshape(-1))\n",
    "# plt.show()\n",
    "\n",
    "Audio(X, rate=40000)"
   ]
  },
  {
   "cell_type": "code",
   "execution_count": null,
   "metadata": {
    "collapsed": true
   },
   "outputs": [],
   "source": []
  }
 ],
 "metadata": {
  "kernelspec": {
   "display_name": "Python 3",
   "language": "python",
   "name": "python3"
  },
  "language_info": {
   "codemirror_mode": {
    "name": "ipython",
    "version": 3
   },
   "file_extension": ".py",
   "mimetype": "text/x-python",
   "name": "python",
   "nbconvert_exporter": "python",
   "pygments_lexer": "ipython3",
   "version": "3.6.1"
  }
 },
 "nbformat": 4,
 "nbformat_minor": 2
}
