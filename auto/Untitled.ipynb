{
 "cells": [
  {
   "cell_type": "code",
   "execution_count": null,
   "metadata": {},
   "outputs": [
    {
     "name": "stdout",
     "output_type": "stream",
     "text": [
      "0 46 7.70339398419e-14\n",
      "1000 15 3.77605774679e-14\n",
      "2000 15 5.62207174032e-14\n",
      "3000 11 1.3384927247e-14\n",
      "4000 26 5.25154345527e-14\n"
     ]
    }
   ],
   "source": [
    "from scipy.io.wavfile import read, write\n",
    "from IPython.display import Audio\n",
    "from auto_chunks import AutoRNN\n",
    "\n",
    "import matplotlib.pyplot as plt\n",
    "import numpy as np\n",
    "%matplotlib inline\n",
    "\n",
    "sounds = '/Users/tru/Desktop/english/'\n",
    "sample_rate, data = read(sounds + 'calc.wav')\n",
    "\n",
    "X = (data.reshape(1, -1) / np.max(data))[:, 55000:60000]\n",
    "y = X\n",
    "\n",
    "arnn = AutoRNN(learning_rate=0.1, seq_len=100,\n",
    "               look_ahead=40, stride=1, lucidity=0)\n",
    "\n",
    "arnn.fit(X, y, epsilon=1e-13, cap=1000, verbose=True)\n",
    "out2 = arnn.generate(seed=X[:,:100], num_samples=12000)\n",
    "\n",
    "plt.plot(X.reshape(-1)[:12150])\n",
    "plt.show()\n",
    "\n",
    "plt.plot(out2.reshape(-1)[:12150])\n",
    "plt.show()\n",
    "\n",
    "Audio(out2, rate=40000)"
   ]
  },
  {
   "cell_type": "code",
   "execution_count": null,
   "metadata": {
    "collapsed": true
   },
   "outputs": [],
   "source": []
  }
 ],
 "metadata": {
  "kernelspec": {
   "display_name": "Python 3",
   "language": "python",
   "name": "python3"
  },
  "language_info": {
   "codemirror_mode": {
    "name": "ipython",
    "version": 3
   },
   "file_extension": ".py",
   "mimetype": "text/x-python",
   "name": "python",
   "nbconvert_exporter": "python",
   "pygments_lexer": "ipython3",
   "version": "3.6.1"
  }
 },
 "nbformat": 4,
 "nbformat_minor": 2
}
